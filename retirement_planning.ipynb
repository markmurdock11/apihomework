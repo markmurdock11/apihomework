{
 "metadata": {
  "language_info": {
   "codemirror_mode": {
    "name": "ipython",
    "version": 3
   },
   "file_extension": ".py",
   "mimetype": "text/x-python",
   "name": "python",
   "nbconvert_exporter": "python",
   "pygments_lexer": "ipython3",
   "version": "3.8.3-final"
  },
  "orig_nbformat": 2,
  "kernelspec": {
   "name": "python_defaultSpec_1602968061322",
   "display_name": "Python 3.8.3 64-bit ('base': conda)"
  }
 },
 "nbformat": 4,
 "nbformat_minor": 2,
 "cells": [
  {
   "cell_type": "markdown",
   "metadata": {},
   "source": [
    "Retirement Planning"
   ]
  },
  {
   "cell_type": "code",
   "execution_count": 26,
   "metadata": {},
   "outputs": [],
   "source": [
    "# Initial imports\n",
    "import os\n",
    "import requests\n",
    "import pandas as pd\n",
    "from dotenv import load_dotenv\n",
    "import alpaca_trade_api as tradeapi\n",
    "from MCForecastTools import MCSimulation\n",
    "\n",
    "%matplotlib inline"
   ]
  },
  {
   "cell_type": "code",
   "execution_count": 27,
   "metadata": {},
   "outputs": [
    {
     "output_type": "execute_result",
     "data": {
      "text/plain": "True"
     },
     "metadata": {},
     "execution_count": 27
    }
   ],
   "source": [
    "# Load .env enviroment variables\n",
    "load_dotenv()"
   ]
  },
  {
   "cell_type": "code",
   "execution_count": 28,
   "metadata": {},
   "outputs": [],
   "source": [
    "# Set Alpaca API key and secret\n",
    "# YOUR CODE HERE!\n",
    "alpaca_api_key = os.getenv(\"APCA_API_KEY\")\n",
    "alpaca_secret_key = os.getenv(\"APCA_API_SECRET_KEY\")\n",
    "# Create the Alpaca API object\n",
    "# YOUR CODE HERE!\n",
    "alpaca = tradeapi.REST(\n",
    "    alpaca_api_key,\n",
    "    alpaca_secret_key,\n",
    "    api_version=\"v2\")\n",
    "\n",
    "tickers = [\"AGG\", \"SPY\"]"
   ]
  },
  {
   "cell_type": "code",
   "execution_count": 29,
   "metadata": {},
   "outputs": [],
   "source": [
    "# Set start and end dates of five years back from today.\n",
    "# Sample results may vary from the solution based on the time frame chosen\n",
    "timeframe = \"1D\"\n",
    "start_date_retirement = pd.Timestamp('2015-10-14', tz='America/New_York').isoformat()\n",
    "end_date_retirment = pd.Timestamp('2020-10-14', tz='America/New_York').isoformat()"
   ]
  },
  {
   "cell_type": "code",
   "execution_count": 30,
   "metadata": {},
   "outputs": [
    {
     "output_type": "execute_result",
     "data": {
      "text/plain": "                              AGG                                         \\\n                             open      high       low   close     volume   \n2015-10-14 00:00:00-04:00  109.83  110.0500  109.7251  110.03  3785661.0   \n2015-10-15 00:00:00-04:00  109.93  110.0499  109.7900  109.89  1792325.0   \n2015-10-16 00:00:00-04:00  109.90  109.9400  109.7800  109.78  1497588.0   \n2015-10-19 00:00:00-04:00  109.78  109.8950  109.6500  109.85  1289942.0   \n2015-10-20 00:00:00-04:00  109.64  109.7800  109.5500  109.65  1672562.0   \n\n                              SPY                                      \n                             open    high       low   close    volume  \n2015-10-14 00:00:00-04:00  200.18  200.87  198.9400  199.27  82856686  \n2015-10-15 00:00:00-04:00  200.08  202.34  199.6400  202.33  96008389  \n2015-10-16 00:00:00-04:00  202.83  203.29  201.9200  203.14  79323870  \n2015-10-19 00:00:00-04:00  202.50  203.37  202.1300  203.33  61255929  \n2015-10-20 00:00:00-04:00  202.85  203.84  202.5471  203.07  60081395  ",
      "text/html": "<div>\n<style scoped>\n    .dataframe tbody tr th:only-of-type {\n        vertical-align: middle;\n    }\n\n    .dataframe tbody tr th {\n        vertical-align: top;\n    }\n\n    .dataframe thead tr th {\n        text-align: left;\n    }\n</style>\n<table border=\"1\" class=\"dataframe\">\n  <thead>\n    <tr>\n      <th></th>\n      <th colspan=\"5\" halign=\"left\">AGG</th>\n      <th colspan=\"5\" halign=\"left\">SPY</th>\n    </tr>\n    <tr>\n      <th></th>\n      <th>open</th>\n      <th>high</th>\n      <th>low</th>\n      <th>close</th>\n      <th>volume</th>\n      <th>open</th>\n      <th>high</th>\n      <th>low</th>\n      <th>close</th>\n      <th>volume</th>\n    </tr>\n  </thead>\n  <tbody>\n    <tr>\n      <th>2015-10-14 00:00:00-04:00</th>\n      <td>109.83</td>\n      <td>110.0500</td>\n      <td>109.7251</td>\n      <td>110.03</td>\n      <td>3785661.0</td>\n      <td>200.18</td>\n      <td>200.87</td>\n      <td>198.9400</td>\n      <td>199.27</td>\n      <td>82856686</td>\n    </tr>\n    <tr>\n      <th>2015-10-15 00:00:00-04:00</th>\n      <td>109.93</td>\n      <td>110.0499</td>\n      <td>109.7900</td>\n      <td>109.89</td>\n      <td>1792325.0</td>\n      <td>200.08</td>\n      <td>202.34</td>\n      <td>199.6400</td>\n      <td>202.33</td>\n      <td>96008389</td>\n    </tr>\n    <tr>\n      <th>2015-10-16 00:00:00-04:00</th>\n      <td>109.90</td>\n      <td>109.9400</td>\n      <td>109.7800</td>\n      <td>109.78</td>\n      <td>1497588.0</td>\n      <td>202.83</td>\n      <td>203.29</td>\n      <td>201.9200</td>\n      <td>203.14</td>\n      <td>79323870</td>\n    </tr>\n    <tr>\n      <th>2015-10-19 00:00:00-04:00</th>\n      <td>109.78</td>\n      <td>109.8950</td>\n      <td>109.6500</td>\n      <td>109.85</td>\n      <td>1289942.0</td>\n      <td>202.50</td>\n      <td>203.37</td>\n      <td>202.1300</td>\n      <td>203.33</td>\n      <td>61255929</td>\n    </tr>\n    <tr>\n      <th>2015-10-20 00:00:00-04:00</th>\n      <td>109.64</td>\n      <td>109.7800</td>\n      <td>109.5500</td>\n      <td>109.65</td>\n      <td>1672562.0</td>\n      <td>202.85</td>\n      <td>203.84</td>\n      <td>202.5471</td>\n      <td>203.07</td>\n      <td>60081395</td>\n    </tr>\n  </tbody>\n</table>\n</div>"
     },
     "metadata": {},
     "execution_count": 30
    }
   ],
   "source": [
    "# Get 5 years' worth of historical data for SPY and AGG\n",
    "# YOUR CODE HERE!\n",
    "retirement = alpaca.get_barset(\n",
    "    tickers,\n",
    "    timeframe,\n",
    "    start=start_date_retirement,\n",
    "    end=end_date_retirment\n",
    ").df\n",
    "# Display sample data\n",
    "retirement.head()"
   ]
  },
  {
   "cell_type": "code",
   "execution_count": 31,
   "metadata": {},
   "outputs": [
    {
     "output_type": "error",
     "ename": "NameError",
     "evalue": "name 'cv_shares' is not defined",
     "traceback": [
      "\u001b[0;31m---------------------------------------------------------------------------\u001b[0m",
      "\u001b[0;31mNameError\u001b[0m                                 Traceback (most recent call last)",
      "\u001b[0;32m<ipython-input-31-672aeb98723c>\u001b[0m in \u001b[0;36m<module>\u001b[0;34m\u001b[0m\n\u001b[1;32m      3\u001b[0m forecast = MCSimulation(\n\u001b[1;32m      4\u001b[0m     \u001b[0mportfolio_data\u001b[0m\u001b[0;34m=\u001b[0m\u001b[0mretirement\u001b[0m\u001b[0;34m,\u001b[0m\u001b[0;34m\u001b[0m\u001b[0;34m\u001b[0m\u001b[0m\n\u001b[0;32m----> 5\u001b[0;31m     \u001b[0mweights\u001b[0m\u001b[0;34m=\u001b[0m \u001b[0;34m[\u001b[0m\u001b[0mcv_shares\u001b[0m\u001b[0;34m/\u001b[0m\u001b[0mtotal_savings\u001b[0m\u001b[0;34m,\u001b[0m \u001b[0mcv_crypto\u001b[0m\u001b[0;34m/\u001b[0m\u001b[0mtotal_savings\u001b[0m\u001b[0;34m]\u001b[0m\u001b[0;34m,\u001b[0m\u001b[0;34m\u001b[0m\u001b[0;34m\u001b[0m\u001b[0m\n\u001b[0m\u001b[1;32m      6\u001b[0m     \u001b[0mnum_simulation\u001b[0m \u001b[0;34m=\u001b[0m \u001b[0;36m1000\u001b[0m\u001b[0;34m,\u001b[0m\u001b[0;34m\u001b[0m\u001b[0;34m\u001b[0m\u001b[0m\n\u001b[1;32m      7\u001b[0m     \u001b[0mnum_trading_days\u001b[0m \u001b[0;34m=\u001b[0m \u001b[0;36m252\u001b[0m\u001b[0;34m*\u001b[0m\u001b[0;36m30\u001b[0m\u001b[0;34m\u001b[0m\u001b[0;34m\u001b[0m\u001b[0m\n",
      "\u001b[0;31mNameError\u001b[0m: name 'cv_shares' is not defined"
     ]
    }
   ],
   "source": [
    "# Configuring a Monte Carlo simulation to forecast 30 years cumulative returns\n",
    "# YOUR CODE HERE!\n",
    "forecast = MCSimulation(\n",
    "    portfolio_data=retirement,\n",
    "    weights= [cv_shares/total_savings, cv_crypto/total_savings],\n",
    "    num_simulation = 1000,\n",
    "    num_trading_days = 252*30\n",
    ")"
   ]
  },
  {
   "cell_type": "code",
   "execution_count": 32,
   "metadata": {},
   "outputs": [
    {
     "output_type": "error",
     "ename": "NameError",
     "evalue": "name 'forecast' is not defined",
     "traceback": [
      "\u001b[0;31m---------------------------------------------------------------------------\u001b[0m",
      "\u001b[0;31mNameError\u001b[0m                                 Traceback (most recent call last)",
      "\u001b[0;32m<ipython-input-32-eb107c4d0a09>\u001b[0m in \u001b[0;36m<module>\u001b[0;34m\u001b[0m\n\u001b[1;32m      1\u001b[0m \u001b[0;31m# Printing the simulation input data\u001b[0m\u001b[0;34m\u001b[0m\u001b[0;34m\u001b[0m\u001b[0;34m\u001b[0m\u001b[0m\n\u001b[1;32m      2\u001b[0m \u001b[0;31m# YOUR CODE HERE!\u001b[0m\u001b[0;34m\u001b[0m\u001b[0;34m\u001b[0m\u001b[0;34m\u001b[0m\u001b[0m\n\u001b[0;32m----> 3\u001b[0;31m \u001b[0mforecast\u001b[0m\u001b[0;34m.\u001b[0m\u001b[0mportfolio_data\u001b[0m\u001b[0;34m.\u001b[0m\u001b[0mhead\u001b[0m\u001b[0;34m(\u001b[0m\u001b[0;34m)\u001b[0m\u001b[0;34m\u001b[0m\u001b[0;34m\u001b[0m\u001b[0m\n\u001b[0m",
      "\u001b[0;31mNameError\u001b[0m: name 'forecast' is not defined"
     ]
    }
   ],
   "source": [
    "# Printing the simulation input data\n",
    "# YOUR CODE HERE!\n",
    "forecast.portfolio_data.head()"
   ]
  },
  {
   "cell_type": "code",
   "execution_count": 33,
   "metadata": {},
   "outputs": [
    {
     "output_type": "error",
     "ename": "NameError",
     "evalue": "name 'forecast' is not defined",
     "traceback": [
      "\u001b[0;31m---------------------------------------------------------------------------\u001b[0m",
      "\u001b[0;31mNameError\u001b[0m                                 Traceback (most recent call last)",
      "\u001b[0;32m<ipython-input-33-10c50e25582f>\u001b[0m in \u001b[0;36m<module>\u001b[0;34m\u001b[0m\n\u001b[1;32m      1\u001b[0m \u001b[0;31m# Running a Monte Carlo simulation to forecast 30 years cumulative returns\u001b[0m\u001b[0;34m\u001b[0m\u001b[0;34m\u001b[0m\u001b[0;34m\u001b[0m\u001b[0m\n\u001b[1;32m      2\u001b[0m \u001b[0;31m# YOUR CODE HERE!\u001b[0m\u001b[0;34m\u001b[0m\u001b[0;34m\u001b[0m\u001b[0;34m\u001b[0m\u001b[0m\n\u001b[0;32m----> 3\u001b[0;31m \u001b[0mforecast\u001b[0m\u001b[0;34m.\u001b[0m\u001b[0mcalc_cumulative_return\u001b[0m\u001b[0;34m(\u001b[0m\u001b[0;34m)\u001b[0m\u001b[0;34m\u001b[0m\u001b[0;34m\u001b[0m\u001b[0m\n\u001b[0m",
      "\u001b[0;31mNameError\u001b[0m: name 'forecast' is not defined"
     ]
    }
   ],
   "source": [
    "# Running a Monte Carlo simulation to forecast 30 years cumulative returns\n",
    "# YOUR CODE HERE!\n",
    "forecast.calc_cumulative_return()"
   ]
  },
  {
   "cell_type": "code",
   "execution_count": 34,
   "metadata": {},
   "outputs": [
    {
     "output_type": "error",
     "ename": "NameError",
     "evalue": "name 'forecast' is not defined",
     "traceback": [
      "\u001b[0;31m---------------------------------------------------------------------------\u001b[0m",
      "\u001b[0;31mNameError\u001b[0m                                 Traceback (most recent call last)",
      "\u001b[0;32m<ipython-input-34-06eee1ea4296>\u001b[0m in \u001b[0;36m<module>\u001b[0;34m\u001b[0m\n\u001b[1;32m      1\u001b[0m \u001b[0;31m# Plot simulation outcomes\u001b[0m\u001b[0;34m\u001b[0m\u001b[0;34m\u001b[0m\u001b[0;34m\u001b[0m\u001b[0m\n\u001b[1;32m      2\u001b[0m \u001b[0;31m# YOUR CODE HERE!\u001b[0m\u001b[0;34m\u001b[0m\u001b[0;34m\u001b[0m\u001b[0;34m\u001b[0m\u001b[0m\n\u001b[0;32m----> 3\u001b[0;31m \u001b[0mforecast_plot\u001b[0m \u001b[0;34m=\u001b[0m \u001b[0mforecast\u001b[0m\u001b[0;34m.\u001b[0m\u001b[0mplot_simulation\u001b[0m\u001b[0;34m(\u001b[0m\u001b[0;34m)\u001b[0m\u001b[0;34m\u001b[0m\u001b[0;34m\u001b[0m\u001b[0m\n\u001b[0m",
      "\u001b[0;31mNameError\u001b[0m: name 'forecast' is not defined"
     ]
    }
   ],
   "source": [
    "# Plot simulation outcomes\n",
    "# YOUR CODE HERE!\n",
    "forecast_plot = forecast.plot_simulation()"
   ]
  },
  {
   "cell_type": "code",
   "execution_count": 35,
   "metadata": {},
   "outputs": [
    {
     "output_type": "error",
     "ename": "NameError",
     "evalue": "name 'forecast' is not defined",
     "traceback": [
      "\u001b[0;31m---------------------------------------------------------------------------\u001b[0m",
      "\u001b[0;31mNameError\u001b[0m                                 Traceback (most recent call last)",
      "\u001b[0;32m<ipython-input-35-1202575e22fd>\u001b[0m in \u001b[0;36m<module>\u001b[0;34m\u001b[0m\n\u001b[1;32m      1\u001b[0m \u001b[0;31m# Plot probability distribution and confidence intervals\u001b[0m\u001b[0;34m\u001b[0m\u001b[0;34m\u001b[0m\u001b[0;34m\u001b[0m\u001b[0m\n\u001b[1;32m      2\u001b[0m \u001b[0;31m# YOUR CODE HERE!\u001b[0m\u001b[0;34m\u001b[0m\u001b[0;34m\u001b[0m\u001b[0;34m\u001b[0m\u001b[0m\n\u001b[0;32m----> 3\u001b[0;31m \u001b[0mforecast_distribution\u001b[0m \u001b[0;34m=\u001b[0m \u001b[0mforecast\u001b[0m\u001b[0;34m.\u001b[0m\u001b[0mplot_distribution\u001b[0m\u001b[0;34m(\u001b[0m\u001b[0;34m)\u001b[0m\u001b[0;34m\u001b[0m\u001b[0;34m\u001b[0m\u001b[0m\n\u001b[0m",
      "\u001b[0;31mNameError\u001b[0m: name 'forecast' is not defined"
     ]
    }
   ],
   "source": [
    "# Plot probability distribution and confidence intervals\n",
    "# YOUR CODE HERE!\n",
    "forecast_distribution = forecast.plot_distribution()"
   ]
  },
  {
   "cell_type": "code",
   "execution_count": 36,
   "metadata": {},
   "outputs": [
    {
     "output_type": "error",
     "ename": "NameError",
     "evalue": "name 'forecast' is not defined",
     "traceback": [
      "\u001b[0;31m---------------------------------------------------------------------------\u001b[0m",
      "\u001b[0;31mNameError\u001b[0m                                 Traceback (most recent call last)",
      "\u001b[0;32m<ipython-input-36-ea0ff0e0f5e2>\u001b[0m in \u001b[0;36m<module>\u001b[0;34m\u001b[0m\n\u001b[1;32m      1\u001b[0m \u001b[0;31m# Fetch summary statistics from the Monte Carlo simulation results\u001b[0m\u001b[0;34m\u001b[0m\u001b[0;34m\u001b[0m\u001b[0;34m\u001b[0m\u001b[0m\n\u001b[1;32m      2\u001b[0m \u001b[0;31m# YOUR CODE HERE!\u001b[0m\u001b[0;34m\u001b[0m\u001b[0;34m\u001b[0m\u001b[0;34m\u001b[0m\u001b[0m\n\u001b[0;32m----> 3\u001b[0;31m \u001b[0mmonte_carlo_summary\u001b[0m \u001b[0;34m=\u001b[0m \u001b[0mforecast\u001b[0m\u001b[0;34m.\u001b[0m\u001b[0msummarize_cumulative_return\u001b[0m\u001b[0;34m(\u001b[0m\u001b[0;34m)\u001b[0m\u001b[0;34m\u001b[0m\u001b[0;34m\u001b[0m\u001b[0m\n\u001b[0m\u001b[1;32m      4\u001b[0m \u001b[0;31m# Print summary statistics\u001b[0m\u001b[0;34m\u001b[0m\u001b[0;34m\u001b[0m\u001b[0;34m\u001b[0m\u001b[0m\n\u001b[1;32m      5\u001b[0m \u001b[0;31m# YOUR CODE HERE!\u001b[0m\u001b[0;34m\u001b[0m\u001b[0;34m\u001b[0m\u001b[0;34m\u001b[0m\u001b[0m\n",
      "\u001b[0;31mNameError\u001b[0m: name 'forecast' is not defined"
     ]
    }
   ],
   "source": [
    "# Fetch summary statistics from the Monte Carlo simulation results\n",
    "# YOUR CODE HERE!\n",
    "monte_carlo_summary = forecast.summarize_cumulative_return()\n",
    "# Print summary statistics\n",
    "# YOUR CODE HERE!\n",
    "print(monte_carlo_summary)"
   ]
  },
  {
   "cell_type": "code",
   "execution_count": 37,
   "metadata": {},
   "outputs": [
    {
     "output_type": "error",
     "ename": "NameError",
     "evalue": "name 'monte_carlo_summary' is not defined",
     "traceback": [
      "\u001b[0;31m---------------------------------------------------------------------------\u001b[0m",
      "\u001b[0;31mNameError\u001b[0m                                 Traceback (most recent call last)",
      "\u001b[0;32m<ipython-input-37-e7394450c2d5>\u001b[0m in \u001b[0;36m<module>\u001b[0;34m\u001b[0m\n\u001b[1;32m      4\u001b[0m \u001b[0;31m# Use the lower and upper `95%` confidence intervals to calculate the range of the possible outcomes of our $20,000\u001b[0m\u001b[0;34m\u001b[0m\u001b[0;34m\u001b[0m\u001b[0;34m\u001b[0m\u001b[0m\n\u001b[1;32m      5\u001b[0m \u001b[0;31m# YOUR CODE HERE!\u001b[0m\u001b[0;34m\u001b[0m\u001b[0;34m\u001b[0m\u001b[0;34m\u001b[0m\u001b[0m\n\u001b[0;32m----> 6\u001b[0;31m \u001b[0mmonte_lower\u001b[0m \u001b[0;34m=\u001b[0m \u001b[0mround\u001b[0m\u001b[0;34m(\u001b[0m\u001b[0mmonte_carlo_summary\u001b[0m\u001b[0;34m[\u001b[0m\u001b[0;36m8\u001b[0m\u001b[0;34m]\u001b[0m\u001b[0;34m*\u001b[0m\u001b[0minitial_investment\u001b[0m\u001b[0;34m,\u001b[0m \u001b[0;36m2\u001b[0m\u001b[0;34m)\u001b[0m\u001b[0;34m\u001b[0m\u001b[0;34m\u001b[0m\u001b[0m\n\u001b[0m\u001b[1;32m      7\u001b[0m \u001b[0mmonte_upper\u001b[0m \u001b[0;34m=\u001b[0m \u001b[0mround\u001b[0m\u001b[0;34m(\u001b[0m\u001b[0mmonte_carlo_summary\u001b[0m\u001b[0;34m[\u001b[0m\u001b[0;36m9\u001b[0m\u001b[0;34m]\u001b[0m\u001b[0;34m*\u001b[0m\u001b[0minitial_investment\u001b[0m\u001b[0;34m,\u001b[0m \u001b[0;36m2\u001b[0m\u001b[0;34m)\u001b[0m\u001b[0;34m\u001b[0m\u001b[0;34m\u001b[0m\u001b[0m\n\u001b[1;32m      8\u001b[0m \u001b[0;31m# Print results\u001b[0m\u001b[0;34m\u001b[0m\u001b[0;34m\u001b[0m\u001b[0;34m\u001b[0m\u001b[0m\n",
      "\u001b[0;31mNameError\u001b[0m: name 'monte_carlo_summary' is not defined"
     ]
    }
   ],
   "source": [
    "# Set initial investment\n",
    "initial_investment = 20000\n",
    "\n",
    "# Use the lower and upper `95%` confidence intervals to calculate the range of the possible outcomes of our $20,000\n",
    "# YOUR CODE HERE!\n",
    "monte_lower = round(monte_carlo_summary[8]*initial_investment, 2)\n",
    "monte_upper = round(monte_carlo_summary[9]*initial_investment, 2)\n",
    "# Print results\n",
    "print(f\"There is a 95% chance that an initial investment of ${initial_investment} in the portfolio\"\n",
    "      f\" over the next 30 years will end within in the range of\"\n",
    "      f\" ${monte_lower} and ${monte_upper}\")"
   ]
  },
  {
   "cell_type": "code",
   "execution_count": 38,
   "metadata": {},
   "outputs": [
    {
     "output_type": "error",
     "ename": "NameError",
     "evalue": "name 'monte_carlo_summary' is not defined",
     "traceback": [
      "\u001b[0;31m---------------------------------------------------------------------------\u001b[0m",
      "\u001b[0;31mNameError\u001b[0m                                 Traceback (most recent call last)",
      "\u001b[0;32m<ipython-input-38-e7beb868dc89>\u001b[0m in \u001b[0;36m<module>\u001b[0;34m\u001b[0m\n\u001b[1;32m      4\u001b[0m \u001b[0;31m# Use the lower and upper `95%` confidence intervals to calculate the range of the possible outcomes of our $30,000\u001b[0m\u001b[0;34m\u001b[0m\u001b[0;34m\u001b[0m\u001b[0;34m\u001b[0m\u001b[0m\n\u001b[1;32m      5\u001b[0m \u001b[0;31m# YOUR CODE HERE!\u001b[0m\u001b[0;34m\u001b[0m\u001b[0;34m\u001b[0m\u001b[0;34m\u001b[0m\u001b[0m\n\u001b[0;32m----> 6\u001b[0;31m \u001b[0mmonte_lower\u001b[0m \u001b[0;34m=\u001b[0m \u001b[0mround\u001b[0m\u001b[0;34m(\u001b[0m\u001b[0mmonte_carlo_summary\u001b[0m\u001b[0;34m[\u001b[0m\u001b[0;36m8\u001b[0m\u001b[0;34m]\u001b[0m\u001b[0;34m*\u001b[0m\u001b[0minitial_investment_1\u001b[0m\u001b[0;34m,\u001b[0m \u001b[0;36m2\u001b[0m\u001b[0;34m)\u001b[0m\u001b[0;34m\u001b[0m\u001b[0;34m\u001b[0m\u001b[0m\n\u001b[0m\u001b[1;32m      7\u001b[0m \u001b[0mmonte_upper\u001b[0m \u001b[0;34m=\u001b[0m \u001b[0mround\u001b[0m\u001b[0;34m(\u001b[0m\u001b[0mmonte_carlo_summary\u001b[0m\u001b[0;34m[\u001b[0m\u001b[0;36m9\u001b[0m\u001b[0;34m]\u001b[0m\u001b[0;34m*\u001b[0m\u001b[0minitial_investment_1\u001b[0m\u001b[0;34m,\u001b[0m \u001b[0;36m2\u001b[0m\u001b[0;34m)\u001b[0m\u001b[0;34m\u001b[0m\u001b[0;34m\u001b[0m\u001b[0m\n\u001b[1;32m      8\u001b[0m \u001b[0;31m# Print results\u001b[0m\u001b[0;34m\u001b[0m\u001b[0;34m\u001b[0m\u001b[0;34m\u001b[0m\u001b[0m\n",
      "\u001b[0;31mNameError\u001b[0m: name 'monte_carlo_summary' is not defined"
     ]
    }
   ],
   "source": [
    "# Set initial investment\n",
    "initial_investment_1 = 20000 * 1.5\n",
    "\n",
    "# Use the lower and upper `95%` confidence intervals to calculate the range of the possible outcomes of our $30,000\n",
    "# YOUR CODE HERE!\n",
    "monte_lower = round(monte_carlo_summary[8]*initial_investment_1, 2)\n",
    "monte_upper = round(monte_carlo_summary[9]*initial_investment_1, 2)\n",
    "# Print results\n",
    "print(f\"There is a 95% chance that an initial investment of ${initial_investment_1} in the portfolio\"\n",
    "      f\" over the next 30 years will end within in the range of\"\n",
    "      f\" ${monte_lower} and ${monte_upper}\")"
   ]
  }
 ]
}